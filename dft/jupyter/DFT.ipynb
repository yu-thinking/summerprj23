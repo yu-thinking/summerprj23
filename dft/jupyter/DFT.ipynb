{
 "cells": [
  {
   "cell_type": "markdown",
   "id": "83d9f47d",
   "metadata": {},
   "source": [
    "# Project：  HLS实现DFT算法\n",
    "\n",
    "> 该实验改编自《FPGA并行编程》第四章 离散傅里叶变换，使用Xilinx Vitis HLS生成的DFT IP进行dft算法的加速。\n",
    "\n"
   ]
  },
  {
   "cell_type": "markdown",
   "id": "2c4c42a7",
   "metadata": {},
   "source": [
    "### 导入Overlay和allocate\n"
   ]
  },
  {
   "cell_type": "code",
   "execution_count": 1,
   "id": "cda1f89f",
   "metadata": {},
   "outputs": [
    {
     "data": {
      "application/javascript": [
       "\n",
       "try {\n",
       "require(['notebook/js/codecell'], function(codecell) {\n",
       "  codecell.CodeCell.options_default.highlight_modes[\n",
       "      'magic_text/x-csrc'] = {'reg':[/^%%microblaze/]};\n",
       "  Jupyter.notebook.events.one('kernel_ready.Kernel', function(){\n",
       "      Jupyter.notebook.get_cells().map(function(cell){\n",
       "          if (cell.cell_type == 'code'){ cell.auto_highlight(); } }) ;\n",
       "  });\n",
       "});\n",
       "} catch (e) {};\n"
      ]
     },
     "metadata": {},
     "output_type": "display_data"
    },
    {
     "data": {
      "application/javascript": [
       "\n",
       "try {\n",
       "require(['notebook/js/codecell'], function(codecell) {\n",
       "  codecell.CodeCell.options_default.highlight_modes[\n",
       "      'magic_text/x-csrc'] = {'reg':[/^%%pybind11/]};\n",
       "  Jupyter.notebook.events.one('kernel_ready.Kernel', function(){\n",
       "      Jupyter.notebook.get_cells().map(function(cell){\n",
       "          if (cell.cell_type == 'code'){ cell.auto_highlight(); } }) ;\n",
       "  });\n",
       "});\n",
       "} catch (e) {};\n"
      ]
     },
     "metadata": {},
     "output_type": "display_data"
    }
   ],
   "source": [
    "from pynq import Overlay  \n",
    "from pynq import allocate"
   ]
  },
  {
   "cell_type": "markdown",
   "id": "ab5faafc",
   "metadata": {},
   "source": [
    "### 加载Overlay"
   ]
  },
  {
   "cell_type": "code",
   "execution_count": 2,
   "id": "1773777d",
   "metadata": {},
   "outputs": [],
   "source": [
    "overlay = Overlay('./DFT.bit') \n",
    "dft=overlay.dft_0"
   ]
  },
  {
   "cell_type": "markdown",
   "id": "95cbcaee",
   "metadata": {},
   "source": [
    "### 分配内存供IP使用"
   ]
  },
  {
   "cell_type": "code",
   "execution_count": 3,
   "id": "7fc9759d",
   "metadata": {},
   "outputs": [],
   "source": [
    "sample_len = 1024\n",
    "reInput_buffer = allocate(shape=(sample_len,), dtype='float32')  \n",
    "imgInput_buffer = allocate(shape=(sample_len,), dtype='float32')\n",
    "reOut_buffer = allocate(shape=(sample_len,), dtype='float32')\n",
    "imgOut_buffer = allocate(shape=(sample_len,), dtype='float32')"
   ]
  },
  {
   "cell_type": "markdown",
   "id": "a5135a9e",
   "metadata": {},
   "source": [
    "### 生成输入数据"
   ]
  },
  {
   "cell_type": "code",
   "execution_count": 4,
   "id": "9e13f716",
   "metadata": {},
   "outputs": [
    {
     "name": "stdout",
     "output_type": "stream",
     "text": [
      "输入数据实部: [0.000e+00 1.000e+00 2.000e+00 ... 1.021e+03 1.022e+03 1.023e+03]\n",
      "输入数据虚部: [[0. 0. 0. ... 0. 0. 0.]]\n"
     ]
    }
   ],
   "source": [
    "import numpy as np\n",
    "real_In =np.array(np.arange(0,1024,1.0))  \n",
    "image_In =np.zeros((1,1024))            #输入生成的是长度为1024的简单信号,用于测试DFT的计算\n",
    "print(\"输入数据实部:\",real_In)         #长度为1024、实部从0线性增长到1023、虚部为全0的复数信号\n",
    "print(\"输入数据虚部:\",image_In)  "
   ]
  },
  {
   "cell_type": "markdown",
   "id": "e3d885aa",
   "metadata": {},
   "source": [
    "复制输入数据到输入缓冲区"
   ]
  },
  {
   "cell_type": "code",
   "execution_count": 5,
   "id": "12d903a6",
   "metadata": {},
   "outputs": [],
   "source": [
    "np.copyto(reInput_buffer, real_In)\n",
    "np.copyto(imgInput_buffer,image_In) "
   ]
  },
  {
   "cell_type": "markdown",
   "id": "de8898aa",
   "metadata": {},
   "source": [
    "### 配置IP核\n"
   ]
  },
  {
   "cell_type": "markdown",
   "id": "1078fe93",
   "metadata": {},
   "source": [
    "直接打印查看各寄存器的信息"
   ]
  },
  {
   "cell_type": "code",
   "execution_count": 6,
   "id": "2a0138b2",
   "metadata": {},
   "outputs": [
    {
     "data": {
      "text/plain": [
       "RegisterMap {\n",
       "  CTRL = Register(AP_START=0, AP_DONE=0, AP_IDLE=1, AP_READY=0, RESERVED_1=0, AUTO_RESTART=0, RESERVED_2=0, INTERRUPT=0, RESERVED_3=0),\n",
       "  GIER = Register(Enable=0, RESERVED=0),\n",
       "  IP_IER = Register(CHAN0_INT_EN=0, CHAN1_INT_EN=0, RESERVED_0=0),\n",
       "  IP_ISR = Register(CHAN0_INT_ST=0, CHAN1_INT_ST=0, RESERVED_0=0),\n",
       "  real_sample_1 = Register(real_sample=write-only),\n",
       "  real_sample_2 = Register(real_sample=write-only),\n",
       "  imag_sample_1 = Register(imag_sample=write-only),\n",
       "  imag_sample_2 = Register(imag_sample=write-only),\n",
       "  real_op_1 = Register(real_op=write-only),\n",
       "  real_op_2 = Register(real_op=write-only),\n",
       "  imag_op_1 = Register(imag_op=write-only),\n",
       "  imag_op_2 = Register(imag_op=write-only)\n",
       "}"
      ]
     },
     "execution_count": 6,
     "metadata": {},
     "output_type": "execute_result"
    }
   ],
   "source": [
    "dft.register_map"
   ]
  },
  {
   "cell_type": "markdown",
   "id": "ce64097a",
   "metadata": {},
   "source": [
    "直接在Register Map中交互"
   ]
  },
  {
   "cell_type": "code",
   "execution_count": 7,
   "id": "473ecadb",
   "metadata": {},
   "outputs": [],
   "source": [
    "dft.register_map.real_sample_1 = reInput_buffer.physical_address  \n",
    "dft.register_map.imag_sample_1 = imgInput_buffer.physical_address \n",
    "dft.register_map.real_op_1 = reOut_buffer.physical_address\n",
    "dft.register_map.imag_op_1 = imgOut_buffer.physical_address"
   ]
  },
  {
   "cell_type": "markdown",
   "id": "efc2a764",
   "metadata": {},
   "source": [
    "### 启动IP核"
   ]
  },
  {
   "cell_type": "code",
   "execution_count": 8,
   "id": "3fc99d67",
   "metadata": {},
   "outputs": [],
   "source": [
    "import time\n",
    "dft.register_map.CTRL.AP_START=1 \n",
    "start_time = time.time()\n",
    "while True:\n",
    "    reg = dft.register_map.CTRL.AP_DONE\n",
    "    if reg != 1:\n",
    "        break\n",
    "end_time = time.time()"
   ]
  },
  {
   "cell_type": "markdown",
   "id": "9e0a05f9",
   "metadata": {},
   "source": [
    "### 打印结果"
   ]
  },
  {
   "cell_type": "code",
   "execution_count": 9,
   "id": "af018a94",
   "metadata": {},
   "outputs": [
    {
     "name": "stdout",
     "output_type": "stream",
     "text": [
      "DFT IP核耗时:0.0009677410125732422s\n",
      "实部输出前10个: [ 5.2377600e+05 -5.1200800e+02 -5.1199518e+02 -5.1197339e+02\n",
      " -5.1201434e+02 -5.1199597e+02 -5.1200342e+02 -5.1202087e+02\n",
      " -5.1199860e+02 -5.1200165e+02]\n",
      "虚部输出前10个: [     0.    166885.69   83441.93   55627.137  41719.445  33374.586\n",
      "  27811.188  23837.205  20856.566  18538.182]\n"
     ]
    }
   ],
   "source": [
    "print(\"DFT IP核耗时:{}s\".format(end_time - start_time))\n",
    "print(\"实部输出前10个:\",reOut_buffer[0:10])  \n",
    "print(\"虚部输出前10个:\",imgOut_buffer[0:10])\n"
   ]
  },
  {
   "cell_type": "markdown",
   "id": "796df695",
   "metadata": {},
   "source": [
    "### 与python numpy库的fft相比较"
   ]
  },
  {
   "cell_type": "code",
   "execution_count": 10,
   "id": "444d3827",
   "metadata": {},
   "outputs": [
    {
     "name": "stdout",
     "output_type": "stream",
     "text": [
      "Numpy FFT耗时: 0.001928091049194336\n",
      "实部输出前10个:\n",
      "[ 5.23776e+05 -5.12000e+02 -5.12000e+02 -5.12000e+02 -5.12000e+02\n",
      " -5.12000e+02 -5.12000e+02 -5.12000e+02 -5.12000e+02 -5.12000e+02]\n",
      "虚部输出前10个:\n",
      "[     0.         166885.53000842  83441.97960358  55627.11373064\n",
      "  41719.41898575  33374.59268656  27811.2006043   23837.19949695\n",
      "  20856.56774251  18538.18221677]\n"
     ]
    }
   ],
   "source": [
    "import numpy as np\n",
    "from time import time\n",
    "\n",
    "# 生成输入\n",
    "N = 1024\n",
    "real_in = np.arange(N)\n",
    "imag_in = np.zeros(N)\n",
    "\n",
    "# 使用np.fft.fft直接计算DFT\n",
    "start = time()\n",
    "out = np.fft.fft(real_in)\n",
    "end = time()\n",
    "np_time = end - start\n",
    "print(\"Numpy FFT耗时:\", np_time)\n",
    "print(\"实部输出前10个:\")        \n",
    "print(out.real[0:10])\n",
    "\n",
    "print(\"虚部输出前10个:\")\n",
    "print(out.imag[0:10])"
   ]
  },
  {
   "cell_type": "markdown",
   "id": "463fef8f",
   "metadata": {},
   "source": [
    "### 与python 直接按定义算法算相比较"
   ]
  },
  {
   "cell_type": "code",
   "execution_count": 19,
   "id": "ffd42c65",
   "metadata": {},
   "outputs": [
    {
     "name": "stdout",
     "output_type": "stream",
     "text": [
      "DFT定义计算耗时: 217.99121689796448\n",
      "实部输出前10个:\n",
      "[ 5.23776e+05 -5.12000e+02 -5.12000e+02 -5.12000e+02 -5.12000e+02\n",
      " -5.12000e+02 -5.12000e+02 -5.12000e+02 -5.12000e+02 -5.12000e+02]\n",
      "虚部输出前10个:\n",
      "[      0.         -166885.53000842  -83441.97960358  -55627.11373064\n",
      "  -41719.41898575  -33374.59268656  -27811.2006043   -23837.19949695\n",
      "  -20856.56774251  -18538.18221677]\n"
     ]
    }
   ],
   "source": [
    "import numpy as np\n",
    "import time\n",
    "\n",
    "N = 1024\n",
    "real_in = np.arange(N)\n",
    "imag_in = np.zeros(N)\n",
    "\n",
    "real_out = np.zeros(N)\n",
    "imag_out = np.zeros(N)\n",
    "\n",
    "start = time.time()\n",
    "\n",
    "for k in range(N):\n",
    "    for n in range(N):\n",
    "        real = real_in[n] \n",
    "        imag = imag_in[n]\n",
    "        \n",
    "        angle = 2 * np.pi * k * n / N\n",
    "        \n",
    "        real_out[k] += real * np.cos(angle) - imag * np.sin(angle)\n",
    "        imag_out[k] += real * np.sin(angle) + imag * np.cos(angle)\n",
    "\n",
    "end = time.time()\n",
    "        \n",
    "print(\"DFT定义计算耗时:\", end - start)\n",
    "print(\"实部输出前10个:\") \n",
    "print(real_out[0:10])\n",
    "print(\"虚部输出前10个:\")\n",
    "print(imag_out[0:10])"
   ]
  },
  {
   "cell_type": "markdown",
   "id": "56bdf542",
   "metadata": {},
   "source": [
    "### DFT IP 应用"
   ]
  },
  {
   "cell_type": "markdown",
   "id": "c1cd7bf0",
   "metadata": {},
   "source": [
    "创建一个用户友好的API，直接返回dft后的幅值，以绘制频谱图"
   ]
  },
  {
   "cell_type": "code",
   "execution_count": 11,
   "id": "75567257",
   "metadata": {},
   "outputs": [],
   "source": [
    "from pynq import DefaultIP\n",
    "class DftDriver(DefaultIP):\n",
    "    def __init__ (self, description):\n",
    "        super().__init__(description=description)\n",
    "    bindto = ['xilinx.com:hls:dft:1.0']\n",
    "    \n",
    "    def dft1024(self, reInput_buffer, imgInput_buffer,  reOut_buffer, imgOut_buffer):\n",
    "    \n",
    "        dft.register_map.real_sample_1 = reInput_buffer.physical_address  \n",
    "        dft.register_map.imag_sample_1 = imgInput_buffer.physical_address \n",
    "        dft.register_map.real_op_1 = reOut_buffer.physical_address\n",
    "        dft.register_map.imag_op_1 = imgOut_buffer.physical_address\n",
    "        dft.register_map.CTRL.AP_START=1 \n",
    "        \n",
    "        real_res = reOut_buffer\n",
    "        imag_res = imgOut_buffer\n",
    "        complex_res = real_res + 1j * imag_res\n",
    "        dft_signal_amp = np.abs(complex_res)\n",
    "\n",
    "        return dft_signal_amp\n",
    "    \n",
    "overlay = Overlay('./DFT.bit') \n",
    "dft=overlay.dft_0"
   ]
  },
  {
   "cell_type": "code",
   "execution_count": 34,
   "id": "81f3c998",
   "metadata": {},
   "outputs": [
    {
     "data": {
      "image/png": "[encoded data removed]",
      "text/plain": [
       "<Figure size 432x288 with 1 Axes>"
      ]
     },
     "metadata": {
      "needs_background": "light"
     },
     "output_type": "display_data"
    }
   ],
   "source": [
    "import numpy as np \n",
    "import matplotlib.pyplot as plt\n",
    "\n",
    "# 参数设置\n",
    "fs = 1000   # 采样频率 \n",
    "N = 1024    # 信号长度\n",
    "T = 1/1024\n",
    "f_main = 250 # 主要频率成分 \n",
    "\n",
    "# 生成时间轴\n",
    "t = np.linspace(0, N/fs, N)  \n",
    "\n",
    "# 生成多个正弦成分\n",
    "f1 = np.random.randint(0, 100)  \n",
    "f2 = np.random.randint(100, 200)\n",
    "f3 = np.random.randint(200, 300) \n",
    "f4 = np.random.randint(300, 400)\n",
    "f5 = np.random.randint(400, 500)\n",
    "\n",
    "y1 = np.sin(2*np.pi*f1*t) \n",
    "y2 = np.sin(2*np.pi*f2*t)\n",
    "y3 = np.sin(2*np.pi*f3*t)\n",
    "y4 = np.sin(2*np.pi*f4*t)\n",
    "y5 = np.sin(2*np.pi*f5*t)\n",
    "\n",
    "# 主要频率成分\n",
    "y_main = np.sin(2*np.pi*f_main*t)\n",
    "\n",
    "# 混合信号\n",
    "signal = y1 + y2 + y3 + y4 + y5 + 5*y_main  \n",
    "\n",
    "# 归一化  \n",
    "signal = signal / np.max(np.abs(signal))\n",
    "\n",
    "np.copyto(reInput_buffer, signal)\n",
    "np.copyto(imgInput_buffer,image_In)\n",
    "\n",
    "# 计算DFT,直接返回幅值\n",
    "dft_signal_amp = dft.dft1024(reInput_buffer, imgInput_buffer,  reOut_buffer, imgOut_buffer)\n",
    "\n",
    "\n",
    "# 计算幅度谱\n",
    "amplitude = dft_signal_amp / len(signal)\n",
    "\n",
    "# 计算频率轴\n",
    "freq = np.arange(-len(amplitude)/2,  len(amplitude)/2) * fs / len(amplitude)\n",
    "\n",
    "\n",
    "# 绘图\n",
    "plt.plot(freq, amplitude)  \n",
    "plt.xlabel('Frequency')\n",
    "plt.ylabel('Amplitude')\n",
    "plt.show()\n",
    "\n"
   ]
  }
 ],
 "metadata": {
  "kernelspec": {
   "display_name": "Python 3",
   "language": "python",
   "name": "python3"
  },
  "language_info": {
   "codemirror_mode": {
    "name": "ipython",
    "version": 3
   },
   "file_extension": ".py",
   "mimetype": "text/x-python",
   "name": "python",
   "nbconvert_exporter": "python",
   "pygments_lexer": "ipython3",
   "version": "3.8.2"
  }
 },
 "nbformat": 4,
 "nbformat_minor": 5
}
